{
  "cells": [
    {
      "cell_type": "markdown",
      "metadata": {
        "id": "view-in-github",
        "colab_type": "text"
      },
      "source": [
        "<a href=\"https://colab.research.google.com/github/dscoool/aisecurity/blob/main/6_%E1%84%8C%E1%85%A9%E1%84%80%E1%85%A5%E1%86%AB%E1%84%86%E1%85%AE%E1%86%AB.ipynb\" target=\"_parent\"><img src=\"https://colab.research.google.com/assets/colab-badge.svg\" alt=\"Open In Colab\"/></a>"
      ]
    },
    {
      "cell_type": "code",
      "execution_count": null,
      "metadata": {
        "id": "69GX6djY8A40",
        "outputId": "a7fad447-b496-485f-f183-01ffc556273a"
      },
      "outputs": [
        {
          "name": "stdout",
          "output_type": "stream",
          "text": [
            "두개의 값은 같습니다.\n"
          ]
        }
      ],
      "source": [
        "a = 1\n",
        "b = 1\n",
        "\n",
        "if a == b:\n",
        "    print(\"두개의 값은 같습니다.\")\n",
        "\n",
        "if a != b:\n",
        "    print(\"두개의 값은 같지 않습니다.\")"
      ]
    },
    {
      "cell_type": "code",
      "execution_count": null,
      "metadata": {
        "id": "KAN5kfRd8A43",
        "outputId": "b20ddfd6-887f-4b51-9995-bff8337fc6a5"
      },
      "outputs": [
        {
          "name": "stdout",
          "output_type": "stream",
          "text": [
            "두개의 값은 같지 않습니다.\n"
          ]
        }
      ],
      "source": [
        "a = 1\n",
        "b = 2\n",
        "\n",
        "if a == b:\n",
        "    print(\"두개의 값은 같습니다.\")\n",
        "else:\n",
        "    print(\"두개의 값은 같지 않습니다.\")"
      ]
    },
    {
      "cell_type": "code",
      "execution_count": null,
      "metadata": {
        "id": "XKbm5OTh8A44",
        "outputId": "5b525745-ab15-4afb-b28b-ba1d6f1a2aae"
      },
      "outputs": [
        {
          "name": "stdout",
          "output_type": "stream",
          "text": [
            "b 값이 더 큽니다.\n"
          ]
        }
      ],
      "source": [
        "a = 1\n",
        "b = 2\n",
        "\n",
        "if a > b:\n",
        "    print(\"a 값이 더 큽니다.\")\n",
        "elif a < b:\n",
        "    print(\"b 값이 더 큽니다.\")\n",
        "else:\n",
        "    print(\"두개의 값은 같습니다.\")"
      ]
    },
    {
      "cell_type": "code",
      "execution_count": null,
      "metadata": {
        "id": "cB7YkYge8A45",
        "outputId": "4258157d-ee73-42d5-e950-13ed1b934094"
      },
      "outputs": [
        {
          "name": "stdout",
          "output_type": "stream",
          "text": [
            "a 값이 더 크거나 같습니다.\n",
            "a 값이 더 작거나 같습니다.\n"
          ]
        }
      ],
      "source": [
        "a = 1\n",
        "b = 1\n",
        "\n",
        "if a >= b:\n",
        "    print(\"a 값이 더 크거나 같습니다.\")\n",
        "\n",
        "if a <= b:\n",
        "    print(\"a 값이 더 작거나 같습니다.\")"
      ]
    },
    {
      "cell_type": "code",
      "execution_count": null,
      "metadata": {
        "id": "EBBlSVZc8A45",
        "outputId": "4601d47a-d01b-4577-bad1-f6844125a4b1"
      },
      "outputs": [
        {
          "name": "stdout",
          "output_type": "stream",
          "text": [
            "두 조건 모두 만족\n",
            "두 조건 중 하나라도 만족하면\n"
          ]
        }
      ],
      "source": [
        "a = 1\n",
        "b = 1\n",
        "c = 2\n",
        "d = 2\n",
        "\n",
        "if a == b and c == d:\n",
        "    print(\"두 조건 모두 만족\")\n",
        "\n",
        "if a == b or c == d:\n",
        "    print(\"두 조건 중 하나라도 만족하면\")"
      ]
    },
    {
      "cell_type": "code",
      "execution_count": null,
      "metadata": {
        "id": "FRcYqY5U8A46",
        "outputId": "5a585623-414d-4004-f600-a5c48bc20299"
      },
      "outputs": [
        {
          "name": "stdout",
          "output_type": "stream",
          "text": [
            "hello python 문자열이 같습니다.\n",
            "hello 가 포함되어 있습니다.\n",
            "hi 가 포함되어 있지 않습니다.\n"
          ]
        }
      ],
      "source": [
        "a_str = \"hello python\"\n",
        "\n",
        "if a_str == \"hello python\":\n",
        "    print(\"hello python 문자열이 같습니다.\")\n",
        "\n",
        "if a_str == \"hi python\":\n",
        "    print(\"hi python 문자열이 같습니다.\")\n",
        "\n",
        "if \"hello\" in a_str:\n",
        "    print(\"hello 가 포함되어 있습니다.\")\n",
        "\n",
        "if \"hello\" not in a_str:\n",
        "    print(\"hello 가 포함되어 있지 않습니다.\")\n",
        "\n",
        "if \"hi\" not in a_str:\n",
        "    print(\"hi 가 포함되어 있지 않습니다.\")"
      ]
    },
    {
      "cell_type": "code",
      "execution_count": null,
      "metadata": {
        "id": "q8PjyFCF8A46",
        "outputId": "d7ce6d42-e48c-4a0a-81da-8438b05176fc"
      },
      "outputs": [
        {
          "name": "stdout",
          "output_type": "stream",
          "text": [
            "a_list에 안녕 이 포함되어 있습니다.\n",
            "a_list에 숫자 2 가 포함되어 있습니다.\n"
          ]
        }
      ],
      "source": [
        "a_list = [\"안녕\",1,2,\"파이썬\"]\n",
        "\n",
        "if \"안녕\" in a_list:\n",
        "    print(\"a_list에 안녕 이 포함되어 있습니다.\")\n",
        "\n",
        "if 2 in a_list:\n",
        "    print(\"a_list에 숫자 2 가 포함되어 있습니다.\")"
      ]
    },
    {
      "cell_type": "code",
      "execution_count": null,
      "metadata": {
        "id": "b2SoADk58A47",
        "outputId": "d3c426fd-aae0-4492-a250-348f51497a57"
      },
      "outputs": [
        {
          "name": "stdout",
          "output_type": "stream",
          "text": [
            "a_list에 숫자 5는 없습니다.\n"
          ]
        }
      ],
      "source": [
        "a_list = [\"안녕\",1,2,\"파이썬\"]\n",
        "\n",
        "if \"안녕\" not in a_list:\n",
        "    print(\"a_list에 안녕 이 포함되어 있지 않습니다.\")\n",
        "\n",
        "if 5 not in a_list:\n",
        "    print(\"a_list에 숫자 5는 없습니다.\")"
      ]
    }
  ],
  "metadata": {
    "interpreter": {
      "hash": "b3ba2566441a7c06988d0923437866b63cedc61552a5af99d1f4fb67d367b25f"
    },
    "kernelspec": {
      "display_name": "Python 3.8.8 64-bit ('base': conda)",
      "language": "python",
      "name": "python3"
    },
    "language_info": {
      "codemirror_mode": {
        "name": "ipython",
        "version": 3
      },
      "file_extension": ".py",
      "mimetype": "text/x-python",
      "name": "python",
      "nbconvert_exporter": "python",
      "pygments_lexer": "ipython3",
      "version": "3.8.8"
    },
    "orig_nbformat": 4,
    "colab": {
      "provenance": [],
      "include_colab_link": true
    }
  },
  "nbformat": 4,
  "nbformat_minor": 0
}