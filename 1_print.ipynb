{
  "cells": [
    {
      "cell_type": "markdown",
      "metadata": {
        "id": "view-in-github",
        "colab_type": "text"
      },
      "source": [
        "<a href=\"https://colab.research.google.com/github/dscoool/aisecurity/blob/main/1_print.ipynb\" target=\"_parent\"><img src=\"https://colab.research.google.com/assets/colab-badge.svg\" alt=\"Open In Colab\"/></a>"
      ]
    },
    {
      "cell_type": "code",
      "execution_count": null,
      "metadata": {
        "id": "rb3IiiYOFYvu",
        "outputId": "fc1527a5-bf48-4180-8e64-315b8330ae12"
      },
      "outputs": [
        {
          "name": "stdout",
          "output_type": "stream",
          "text": [
            "hello\n"
          ]
        }
      ],
      "source": [
        "print(\"hello\")"
      ]
    },
    {
      "cell_type": "code",
      "execution_count": null,
      "metadata": {
        "id": "46VuHHZdFYvx",
        "outputId": "da21a4e2-8271-4d66-9496-458a46f09900"
      },
      "outputs": [
        {
          "name": "stdout",
          "output_type": "stream",
          "text": [
            "hello\n"
          ]
        }
      ],
      "source": [
        "print('hello')"
      ]
    },
    {
      "cell_type": "code",
      "execution_count": null,
      "metadata": {
        "id": "bLAMyc-AFYvx",
        "outputId": "065ce072-09a7-4c26-d649-4607c345a937"
      },
      "outputs": [
        {
          "name": "stdout",
          "output_type": "stream",
          "text": [
            "hello \"안녕하세요\"\n"
          ]
        }
      ],
      "source": [
        "print('hello \"안녕하세요\"')"
      ]
    },
    {
      "cell_type": "code",
      "execution_count": null,
      "metadata": {
        "id": "IYoH3KoBFYvy",
        "outputId": "d034ab9e-3cee-4453-ad58-9e793ca6801d"
      },
      "outputs": [
        {
          "name": "stdout",
          "output_type": "stream",
          "text": [
            "hello '안녕하세요'\n"
          ]
        }
      ],
      "source": [
        "print(\"hello '안녕하세요'\")"
      ]
    },
    {
      "cell_type": "code",
      "execution_count": null,
      "metadata": {
        "id": "dQBtR282FYvy",
        "outputId": "a5760fd6-5202-40e8-999b-94a1035aac12"
      },
      "outputs": [
        {
          "name": "stdout",
          "output_type": "stream",
          "text": [
            "안녕 하세요 반갑습니다\n"
          ]
        }
      ],
      "source": [
        "print('안녕','하세요','반갑습니다')"
      ]
    },
    {
      "cell_type": "code",
      "execution_count": null,
      "metadata": {
        "id": "C9HQ-qg9FYvz",
        "outputId": "a4ed8eda-bdc5-4ff5-f597-1883bd367c09"
      },
      "outputs": [
        {
          "name": "stdout",
          "output_type": "stream",
          "text": [
            "안녕하세요반갑습니다\n"
          ]
        }
      ],
      "source": [
        "print('안녕'+'하세요'+'반갑습니다')"
      ]
    },
    {
      "cell_type": "code",
      "execution_count": null,
      "metadata": {
        "id": "8R7pEyGxFYvz",
        "outputId": "d3af8e56-16fb-46cc-a561-d5eb7d32e7e1"
      },
      "outputs": [
        {
          "name": "stdout",
          "output_type": "stream",
          "text": [
            "안녕하세요 \n",
            "오늘은 날씨가 좋네요\n"
          ]
        }
      ],
      "source": [
        "print(\"\"\"안녕하세요\n",
        "오늘은 날씨가 좋네요\"\"\")"
      ]
    },
    {
      "cell_type": "code",
      "execution_count": null,
      "metadata": {
        "id": "VIEnfX1EFYvz",
        "outputId": "9c0fc371-44f0-4a44-f0c8-0e1f49dd6af2"
      },
      "outputs": [
        {
          "name": "stdout",
          "output_type": "stream",
          "text": [
            "안녕하세요 \n",
            "오늘은 날씨가 좋네요\n"
          ]
        }
      ],
      "source": [
        "print('''안녕하세요\n",
        "오늘은 날씨가 좋네요''')"
      ]
    },
    {
      "cell_type": "code",
      "execution_count": null,
      "metadata": {
        "id": "C-5me5qeFYv0",
        "outputId": "de1744ea-c45b-45b1-945d-01f7ff9853e2"
      },
      "outputs": [
        {
          "name": "stdout",
          "output_type": "stream",
          "text": [
            "안녕하세요오늘은 날씨가 좋네요\n"
          ]
        }
      ],
      "source": [
        "print(\"안녕하세요\" \\\n",
        "\"오늘은 날씨가 좋네요\")"
      ]
    },
    {
      "cell_type": "code",
      "execution_count": null,
      "metadata": {
        "id": "gfvFDcOWFYv0",
        "outputId": "0e2260b5-8b9e-4f84-bf9b-a4e4480d4ca0"
      },
      "outputs": [
        {
          "name": "stdout",
          "output_type": "stream",
          "text": [
            "a값:123  b값:안녕하세요.\n"
          ]
        }
      ],
      "source": [
        "a = 123\n",
        "b = \"안녕하세요.\"\n",
        "\n",
        "print(\"a값:{}  b값:{}\".format(a,b))"
      ]
    },
    {
      "cell_type": "code",
      "execution_count": null,
      "metadata": {
        "id": "bB9IWhujFYv1",
        "outputId": "149eeb48-895e-4d0b-b6e2-59894d90426f"
      },
      "outputs": [
        {
          "name": "stdout",
          "output_type": "stream",
          "text": [
            "a값:123  b값:안녕하세요.\n"
          ]
        }
      ],
      "source": [
        "a = 123\n",
        "b = \"안녕하세요.\"\n",
        "\n",
        "print(f\"a값:{a}  b값:{b}\")"
      ]
    }
  ],
  "metadata": {
    "interpreter": {
      "hash": "b3ba2566441a7c06988d0923437866b63cedc61552a5af99d1f4fb67d367b25f"
    },
    "kernelspec": {
      "display_name": "Python 3.8.8 64-bit ('base': conda)",
      "name": "python3"
    },
    "language_info": {
      "codemirror_mode": {
        "name": "ipython",
        "version": 3
      },
      "file_extension": ".py",
      "mimetype": "text/x-python",
      "name": "python",
      "nbconvert_exporter": "python",
      "pygments_lexer": "ipython3",
      "version": "3.8.8"
    },
    "orig_nbformat": 4,
    "colab": {
      "provenance": [],
      "include_colab_link": true
    }
  },
  "nbformat": 4,
  "nbformat_minor": 0
}