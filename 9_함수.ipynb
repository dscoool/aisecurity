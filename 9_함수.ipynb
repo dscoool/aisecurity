{
  "cells": [
    {
      "cell_type": "markdown",
      "metadata": {
        "id": "view-in-github",
        "colab_type": "text"
      },
      "source": [
        "<a href=\"https://colab.research.google.com/github/dscoool/aisecurity/blob/main/9_%E1%84%92%E1%85%A1%E1%86%B7%E1%84%89%E1%85%AE.ipynb\" target=\"_parent\"><img src=\"https://colab.research.google.com/assets/colab-badge.svg\" alt=\"Open In Colab\"/></a>"
      ]
    },
    {
      "cell_type": "code",
      "execution_count": null,
      "metadata": {
        "id": "lGdnBZeJ4bKr",
        "outputId": "a6042cba-d608-4997-a6cb-bb9d10e062d5"
      },
      "outputs": [
        {
          "name": "stdout",
          "output_type": "stream",
          "text": [
            "안녕하세요\n",
            "파이썬과 40개의 작품들 입니다.\n"
          ]
        }
      ],
      "source": [
        "def func():\n",
        "    print(\"안녕하세요\")\n",
        "    print(\"파이썬과 40개의 작품들 입니다.\")\n",
        "\n",
        "func()"
      ]
    },
    {
      "cell_type": "code",
      "execution_count": null,
      "metadata": {
        "id": "Iv1_3XTA4bKu",
        "outputId": "67eeb1ac-69fc-46c3-9caf-879887d2708f"
      },
      "outputs": [
        {
          "name": "stdout",
          "output_type": "stream",
          "text": [
            "안녕하세요\n",
            "파이썬과 40개의 작품들 입니다.\n",
            "안녕하세요\n",
            "파이썬과 40개의 작품들 입니다.\n",
            "안녕하세요\n",
            "파이썬과 40개의 작품들 입니다.\n"
          ]
        }
      ],
      "source": [
        "def func():\n",
        "    print(\"안녕하세요\")\n",
        "    print(\"파이썬과 40개의 작품들 입니다.\")\n",
        "\n",
        "for i in range(3):\n",
        "    func()"
      ]
    },
    {
      "cell_type": "code",
      "execution_count": null,
      "metadata": {
        "id": "b9WbhAKa4bKv",
        "outputId": "b66ffade-d7f0-45a6-da35-3628b176a1bd"
      },
      "outputs": [
        {
          "name": "stdout",
          "output_type": "stream",
          "text": [
            "3\n"
          ]
        }
      ],
      "source": [
        "def funcAdd(a,b):\n",
        "    return a + b\n",
        "\n",
        "c = funcAdd(1,2)\n",
        "print(c)"
      ]
    },
    {
      "cell_type": "code",
      "execution_count": null,
      "metadata": {
        "id": "agfLpaLs4bKw",
        "outputId": "cd1f9d06-df33-46a6-e242-00a077c1b388"
      },
      "outputs": [
        {
          "name": "stdout",
          "output_type": "stream",
          "text": [
            "6\n"
          ]
        }
      ],
      "source": [
        "def funcMux(a,b):\n",
        "    mux = a * b\n",
        "    return mux\n",
        "\n",
        "c = funcMux(2,3)\n",
        "print(c)"
      ]
    },
    {
      "cell_type": "code",
      "execution_count": null,
      "metadata": {
        "id": "yXSEMmxD4bKw",
        "outputId": "c0e40386-665c-451d-9aa3-a27651658634"
      },
      "outputs": [
        {
          "name": "stdout",
          "output_type": "stream",
          "text": [
            "4 3\n"
          ]
        }
      ],
      "source": [
        "def funcAddMux(a,b):\n",
        "    add = a + b\n",
        "    mux = a * b\n",
        "    return add,mux\n",
        "\n",
        "a,b = funcAddMux(1,3)\n",
        "\n",
        "print(a,b)"
      ]
    },
    {
      "cell_type": "code",
      "execution_count": null,
      "metadata": {
        "id": "ocvBfDRa4bKx",
        "outputId": "6f6f716a-6511-4f1f-f071-04992becd0d2"
      },
      "outputs": [
        {
          "name": "stdout",
          "output_type": "stream",
          "text": [
            "3\n"
          ]
        }
      ],
      "source": [
        "def funcAddMux(a,b):\n",
        "    add = a + b\n",
        "    mux = a * b\n",
        "    return add,mux\n",
        "\n",
        "_,b = funcAddMux(1,3)\n",
        "\n",
        "print(b)"
      ]
    }
  ],
  "metadata": {
    "interpreter": {
      "hash": "b3ba2566441a7c06988d0923437866b63cedc61552a5af99d1f4fb67d367b25f"
    },
    "kernelspec": {
      "display_name": "Python 3.8.8 64-bit ('base': conda)",
      "language": "python",
      "name": "python3"
    },
    "language_info": {
      "codemirror_mode": {
        "name": "ipython",
        "version": 3
      },
      "file_extension": ".py",
      "mimetype": "text/x-python",
      "name": "python",
      "nbconvert_exporter": "python",
      "pygments_lexer": "ipython3",
      "version": "3.8.8"
    },
    "orig_nbformat": 4,
    "colab": {
      "provenance": [],
      "include_colab_link": true
    }
  },
  "nbformat": 4,
  "nbformat_minor": 0
}