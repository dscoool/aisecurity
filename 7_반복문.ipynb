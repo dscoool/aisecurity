{
  "cells": [
    {
      "cell_type": "markdown",
      "metadata": {
        "id": "view-in-github",
        "colab_type": "text"
      },
      "source": [
        "<a href=\"https://colab.research.google.com/github/dscoool/aisecurity/blob/main/7_%E1%84%87%E1%85%A1%E1%86%AB%E1%84%87%E1%85%A9%E1%86%A8%E1%84%86%E1%85%AE%E1%86%AB.ipynb\" target=\"_parent\"><img src=\"https://colab.research.google.com/assets/colab-badge.svg\" alt=\"Open In Colab\"/></a>"
      ]
    },
    {
      "cell_type": "code",
      "execution_count": null,
      "metadata": {
        "id": "ddMNPw-74A6_",
        "outputId": "166cde11-50ad-47e6-ced2-19804127fd2e"
      },
      "outputs": [
        {
          "name": "stdout",
          "output_type": "stream",
          "text": [
            "0\n",
            "1\n",
            "2\n",
            "3\n",
            "4\n",
            "5\n",
            "6\n"
          ]
        }
      ],
      "source": [
        "for i in range(7):\n",
        "    print(i)"
      ]
    },
    {
      "cell_type": "code",
      "execution_count": null,
      "metadata": {
        "id": "nIcnCDdd4A7C",
        "outputId": "4e196534-2865-418d-c23a-6c22095bbe53"
      },
      "outputs": [
        {
          "name": "stdout",
          "output_type": "stream",
          "text": [
            "5\n",
            "6\n",
            "7\n",
            "8\n",
            "9\n"
          ]
        }
      ],
      "source": [
        "for i in range(5,10):\n",
        "    print(i)"
      ]
    },
    {
      "cell_type": "code",
      "execution_count": null,
      "metadata": {
        "id": "lraaC0ha4A7D",
        "outputId": "1a1c4e32-5c93-4019-95a1-6ade3024e81e"
      },
      "outputs": [
        {
          "name": "stdout",
          "output_type": "stream",
          "text": [
            "10\n",
            "9\n",
            "8\n",
            "7\n",
            "6\n"
          ]
        }
      ],
      "source": [
        "for i in range(10,5,-1):\n",
        "    print(i)"
      ]
    },
    {
      "cell_type": "code",
      "execution_count": null,
      "metadata": {
        "id": "ZZWMq4NH4A7E",
        "outputId": "b266eb14-e095-4e05-cae3-2e930c3f97a9"
      },
      "outputs": [
        {
          "name": "stdout",
          "output_type": "stream",
          "text": [
            "1\n",
            "2\n",
            "3\n",
            "4\n",
            "5\n",
            "안녕\n",
            "하세요\n"
          ]
        }
      ],
      "source": [
        "a_list = [1,2,3,4,5,\"안녕\",\"하세요\"]\n",
        "\n",
        "for i in a_list:\n",
        "    print(i)"
      ]
    },
    {
      "cell_type": "code",
      "execution_count": null,
      "metadata": {
        "id": "bTCOnyJw4A7H",
        "outputId": "3c958261-4607-4983-8cf2-9bc1707ceeeb"
      },
      "outputs": [
        {
          "name": "stdout",
          "output_type": "stream",
          "text": [
            "h\n",
            "e\n",
            "l\n",
            "l\n",
            "o\n",
            " \n",
            "p\n",
            "y\n",
            "t\n",
            "h\n",
            "o\n",
            "n\n"
          ]
        }
      ],
      "source": [
        "a_str = \"hello python\"\n",
        "\n",
        "for i in a_str:\n",
        "    print(i)"
      ]
    },
    {
      "cell_type": "code",
      "execution_count": null,
      "metadata": {
        "id": "dPONwR0z4A7H",
        "outputId": "01d89bda-e6c2-45fe-b069-5a0a99b7c080"
      },
      "outputs": [
        {
          "name": "stdout",
          "output_type": "stream",
          "text": [
            "i= 0  k= 홍길동\n",
            "i= 1  k= 장다인\n",
            "i= 2  k= 김철수\n"
          ]
        }
      ],
      "source": [
        "name_list = [\"홍길동\",\"장다인\",\"김철수\"]\n",
        "age_list = [500,5,12]\n",
        "\n",
        "for i,k in enumerate(name_list):\n",
        "    print(\"i=\",i,end='  ')\n",
        "    print(\"k=\",k)"
      ]
    },
    {
      "cell_type": "code",
      "execution_count": null,
      "metadata": {
        "id": "aLhWdtqS4A7K",
        "outputId": "527405cb-f296-489b-fdf9-cd2f1458f122"
      },
      "outputs": [
        {
          "name": "stdout",
          "output_type": "stream",
          "text": [
            "홍길동  500\n",
            "장다인  5\n",
            "김철수  12\n",
            "홍길동  500\n",
            "장다인  5\n",
            "김철수  12\n"
          ]
        }
      ],
      "source": [
        "name_list = [\"홍길동\",\"장다인\",\"김철수\"]\n",
        "age_list = [500,5,12]\n",
        "\n",
        "for i,k in enumerate(name_list):\n",
        "    print(k,end='  ')\n",
        "    print(age_list[i])\n",
        "\n",
        "for i,k in enumerate(name_list):\n",
        "    print(name_list[i],end='  ')\n",
        "    print(age_list[i])"
      ]
    },
    {
      "cell_type": "code",
      "execution_count": null,
      "metadata": {
        "id": "mlAP05rM4A7L",
        "outputId": "e76ee819-1456-41a3-f0c6-9af67771889c"
      },
      "outputs": [
        {
          "name": "stdout",
          "output_type": "stream",
          "text": [
            "홍길동  500\n",
            "장다인  5\n",
            "김철수  12\n"
          ]
        }
      ],
      "source": [
        "name_list = [\"홍길동\",\"장다인\",\"김철수\"]\n",
        "age_list = [500,5,12]\n",
        "\n",
        "for i in range(len(name_list)):\n",
        "    print(name_list[i],end='  ')\n",
        "    print(age_list[i])"
      ]
    },
    {
      "cell_type": "code",
      "execution_count": null,
      "metadata": {
        "id": "4rN-otkG4A7L",
        "outputId": "eb82cdd1-f284-4cc4-8c9b-4d6d93e3b964"
      },
      "outputs": [
        {
          "name": "stdout",
          "output_type": "stream",
          "text": [
            "[0, 1, 2, 3, 4, 5, 6, 7, 8, 9]\n",
            "[0, 1, 2, 3, 4, 5, 6, 7, 8, 9]\n"
          ]
        }
      ],
      "source": [
        "test_list = [i for i in range(10)]\n",
        "\n",
        "print(test_list)\n",
        "\n",
        "\n",
        "test2_list = []\n",
        "for i in range(10):\n",
        "    test2_list.append(i)\n",
        "\n",
        "print(test2_list)"
      ]
    },
    {
      "cell_type": "code",
      "execution_count": null,
      "metadata": {
        "id": "uvHU6u3y4A7M",
        "outputId": "938f76ba-f531-4b4f-9b79-3c420f67fe31"
      },
      "outputs": [
        {
          "name": "stdout",
          "output_type": "stream",
          "text": [
            "[0, 5, 10, 15, 20, 25, 30, 35, 40, 45]\n",
            "[0, 0, 0, 0, 0, 0, 0, 0, 0, 0]\n"
          ]
        }
      ],
      "source": [
        "test_list = [i * 5 for i in range(10)]\n",
        "\n",
        "print(test_list)\n",
        "\n",
        "test2_list = [0 for i in range(10)]\n",
        "\n",
        "print(test2_list)"
      ]
    },
    {
      "cell_type": "code",
      "execution_count": null,
      "metadata": {
        "id": "gOSHK-gh4A7N",
        "outputId": "0904023f-f3e1-4a76-e62b-2abd2e8459f4"
      },
      "outputs": [
        {
          "name": "stdout",
          "output_type": "stream",
          "text": [
            "0\n",
            "1\n",
            "2\n",
            "3\n",
            "4\n",
            "True\n"
          ]
        }
      ],
      "source": [
        "a = 0\n",
        "while a  < 5:\n",
        "    print(a)\n",
        "    a = a + 1"
      ]
    },
    {
      "cell_type": "code",
      "execution_count": null,
      "metadata": {
        "id": "qBkzJnkW4A7O",
        "outputId": "3449589c-2baf-4e42-bdca-834de8d86bb6"
      },
      "outputs": [
        {
          "name": "stdout",
          "output_type": "stream",
          "text": [
            "0\n",
            "1\n",
            "2\n",
            "3\n",
            "4\n"
          ]
        }
      ],
      "source": [
        "a = 0\n",
        "while True:\n",
        "    print(a)\n",
        "    a = a + 1\n",
        "    if a >= 5:\n",
        "        break"
      ]
    }
  ],
  "metadata": {
    "interpreter": {
      "hash": "b3ba2566441a7c06988d0923437866b63cedc61552a5af99d1f4fb67d367b25f"
    },
    "kernelspec": {
      "display_name": "Python 3.8.8 64-bit ('base': conda)",
      "language": "python",
      "name": "python3"
    },
    "language_info": {
      "codemirror_mode": {
        "name": "ipython",
        "version": 3
      },
      "file_extension": ".py",
      "mimetype": "text/x-python",
      "name": "python",
      "nbconvert_exporter": "python",
      "pygments_lexer": "ipython3",
      "version": "3.8.8"
    },
    "orig_nbformat": 4,
    "colab": {
      "provenance": [],
      "include_colab_link": true
    }
  },
  "nbformat": 4,
  "nbformat_minor": 0
}