{
  "cells": [
    {
      "cell_type": "markdown",
      "metadata": {
        "id": "view-in-github",
        "colab_type": "text"
      },
      "source": [
        "<a href=\"https://colab.research.google.com/github/dscoool/aisecurity/blob/main/11_%E1%84%8C%E1%85%AE%E1%84%89%E1%85%A5%E1%86%A8.ipynb\" target=\"_parent\"><img src=\"https://colab.research.google.com/assets/colab-badge.svg\" alt=\"Open In Colab\"/></a>"
      ]
    },
    {
      "cell_type": "code",
      "execution_count": null,
      "metadata": {
        "id": "O89TAKmW6gVc",
        "outputId": "094aa077-8ee7-4719-d7fb-0dc0c545548e"
      },
      "outputs": [
        {
          "name": "stdout",
          "output_type": "stream",
          "text": [
            "hello\n"
          ]
        }
      ],
      "source": [
        "#주석입니다.\n",
        "#사용자 설명 코드 입니다.\n",
        "\n",
        "print(\"hello\") # 코드의 줄 끝에 사용할수 있습니다."
      ]
    },
    {
      "cell_type": "code",
      "execution_count": null,
      "metadata": {
        "id": "rZi8rc246gVf",
        "outputId": "fcd93871-89b1-4c2f-9ecd-cfe47b88d294"
      },
      "outputs": [
        {
          "name": "stdout",
          "output_type": "stream",
          "text": [
            "hi\n"
          ]
        }
      ],
      "source": [
        "#print(\"hello\")\n",
        "print(\"hi\")"
      ]
    },
    {
      "cell_type": "code",
      "execution_count": null,
      "metadata": {
        "id": "hZmoQDsM6gVg",
        "outputId": "a8933893-97a8-4479-84e4-097bcc800bbd"
      },
      "outputs": [
        {
          "data": {
            "text/plain": [
              "'\\n여러줄을 입력할때는 \\n쌍따옴표 3개로 시작하고 \\n쌍따옴표 3개로 종료하면 \\n여러줄을 입력할 수 있습니다.\\n'"
            ]
          },
          "execution_count": 3,
          "metadata": {},
          "output_type": "execute_result"
        }
      ],
      "source": [
        "\"\"\"\n",
        "여러줄을 입력할때는\n",
        "쌍따옴표 3개로 시작하고\n",
        "쌍따옴표 3개로 종료하면\n",
        "여러줄을 입력할 수 있습니다.\n",
        "\"\"\""
      ]
    },
    {
      "cell_type": "code",
      "execution_count": null,
      "metadata": {
        "id": "v5depqmn6gVg",
        "outputId": "45da0f65-fdc4-493c-b716-90fdefb91582"
      },
      "outputs": [
        {
          "data": {
            "text/plain": [
              "'\\n또는 여러줄을 입력할때는 \\n따옴표 3개로 시작하고 \\n따옴표 3개로 종료하면 \\n여러줄을 입력할 수 있습니다.\\n'"
            ]
          },
          "execution_count": 4,
          "metadata": {},
          "output_type": "execute_result"
        }
      ],
      "source": [
        "'''\n",
        "또는 여러줄을 입력할때는\n",
        "따옴표 3개로 시작하고\n",
        "따옴표 3개로 종료하면\n",
        "여러줄을 입력할 수 있습니다.\n",
        "'''"
      ]
    },
    {
      "cell_type": "code",
      "execution_count": null,
      "metadata": {
        "id": "IJruL8rG6gVh",
        "outputId": "bad5ae24-e0c3-4903-abf3-59ab9a304874"
      },
      "outputs": [
        {
          "name": "stdout",
          "output_type": "stream",
          "text": [
            "\n",
            "여러줄의\n",
            "문자열을 입력할때도 \n",
            "쌍따옴표 또는 따옴표 \n",
            "3개를 사용할수 있습니다.\n",
            "\n"
          ]
        }
      ],
      "source": [
        "a_str = \"\"\"\n",
        "여러줄의\n",
        "문자열을 입력할때도\n",
        "쌍따옴표 또는 따옴표\n",
        "3개를 사용할수 있습니다.\n",
        "\"\"\"\n",
        "print(a_str)"
      ]
    },
    {
      "cell_type": "code",
      "execution_count": null,
      "metadata": {
        "id": "p1Ed4hM46gVh",
        "outputId": "8a495d11-c3a7-4b5f-82ab-176129bc2c32"
      },
      "outputs": [
        {
          "name": "stdout",
          "output_type": "stream",
          "text": [
            "3\n"
          ]
        }
      ],
      "source": [
        "#여러줄을 마우스로 드래그 하여 선택 후 [컨트롤 + /] 로 주석처리 할수 있습니다.\n",
        "#다시 주석을 해제할때는 # 주석처리된 코드에서 [컨트롤 + /] 로 주석을 해제 할수 있습니다.\n",
        "\n",
        "# a = 1\n",
        "# b = 2\n",
        "# print(a + b)"
      ]
    }
  ],
  "metadata": {
    "interpreter": {
      "hash": "b3ba2566441a7c06988d0923437866b63cedc61552a5af99d1f4fb67d367b25f"
    },
    "kernelspec": {
      "display_name": "Python 3.8.8 64-bit ('base': conda)",
      "language": "python",
      "name": "python3"
    },
    "language_info": {
      "codemirror_mode": {
        "name": "ipython",
        "version": 3
      },
      "file_extension": ".py",
      "mimetype": "text/x-python",
      "name": "python",
      "nbconvert_exporter": "python",
      "pygments_lexer": "ipython3",
      "version": "3.8.8"
    },
    "orig_nbformat": 4,
    "colab": {
      "provenance": [],
      "include_colab_link": true
    }
  },
  "nbformat": 4,
  "nbformat_minor": 0
}