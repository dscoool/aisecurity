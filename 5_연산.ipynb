{
  "cells": [
    {
      "cell_type": "markdown",
      "metadata": {
        "id": "view-in-github",
        "colab_type": "text"
      },
      "source": [
        "<a href=\"https://colab.research.google.com/github/dscoool/aisecurity/blob/main/5_%E1%84%8B%E1%85%A7%E1%86%AB%E1%84%89%E1%85%A1%E1%86%AB.ipynb\" target=\"_parent\"><img src=\"https://colab.research.google.com/assets/colab-badge.svg\" alt=\"Open In Colab\"/></a>"
      ]
    },
    {
      "cell_type": "code",
      "execution_count": null,
      "metadata": {
        "id": "K900eBt33wNk",
        "outputId": "73c8e08c-e093-4836-e626-7b474c5c7e65"
      },
      "outputs": [
        {
          "name": "stdout",
          "output_type": "stream",
          "text": [
            "더하기: 30\n",
            "빼기: -10\n",
            "곱하기: 200\n",
            "나누기: 0.5\n"
          ]
        }
      ],
      "source": [
        "print(\"더하기:\",10+20)\n",
        "print(\"빼기:\",10-20)\n",
        "print(\"곱하기:\",10*20)\n",
        "print(\"나누기:\",10/20)"
      ]
    },
    {
      "cell_type": "code",
      "execution_count": null,
      "metadata": {
        "id": "zXFBsrx33wNn",
        "outputId": "598b6f15-013a-42bc-cf35-38f8fcca36de"
      },
      "outputs": [
        {
          "name": "stdout",
          "output_type": "stream",
          "text": [
            "c**2: 100\n",
            "c**3: 1000\n",
            "c**4: 10000\n"
          ]
        }
      ],
      "source": [
        "print(\"c**2:\",10**2)\n",
        "print(\"c**3:\",10**3)\n",
        "print(\"c**4:\",10**4)"
      ]
    },
    {
      "cell_type": "code",
      "execution_count": null,
      "metadata": {
        "id": "R6nqsZ3K3wNn",
        "outputId": "b0d200a1-5ac8-4426-bc32-7c687b5a3d69"
      },
      "outputs": [
        {
          "name": "stdout",
          "output_type": "stream",
          "text": [
            "몫: 6\n",
            "나머지: 4\n"
          ]
        }
      ],
      "source": [
        "print(\"몫:\",40//6)\n",
        "print(\"나머지:\",40%6)"
      ]
    },
    {
      "cell_type": "code",
      "execution_count": null,
      "metadata": {
        "id": "2y4IWRD43wNo",
        "outputId": "ef199c4b-2e5c-46ef-f865-73aaa751f3e4"
      },
      "outputs": [
        {
          "name": "stdout",
          "output_type": "stream",
          "text": [
            "0\n",
            "1\n",
            "1\n",
            "1\n",
            "False\n",
            "True\n",
            "True\n",
            "True\n"
          ]
        }
      ],
      "source": [
        "print(0 or 0)\n",
        "print(0 or 1)\n",
        "print(1 or 0)\n",
        "print(1 or 1)\n",
        "print(False or False)\n",
        "print(False or True)\n",
        "print(True or False)\n",
        "print(True or True)"
      ]
    },
    {
      "cell_type": "code",
      "execution_count": null,
      "metadata": {
        "id": "Q2AJfsP13wNp",
        "outputId": "2e43e3fe-3c49-4e33-8219-f4518199cb66"
      },
      "outputs": [
        {
          "name": "stdout",
          "output_type": "stream",
          "text": [
            "0\n",
            "0\n",
            "0\n",
            "1\n",
            "False\n",
            "False\n",
            "False\n",
            "True\n"
          ]
        }
      ],
      "source": [
        "print(0 and 0)\n",
        "print(0 and 1)\n",
        "print(1 and 0)\n",
        "print(1 and 1)\n",
        "print(False and False)\n",
        "print(False and True)\n",
        "print(True and False)\n",
        "print(True and True)"
      ]
    },
    {
      "cell_type": "code",
      "execution_count": null,
      "metadata": {
        "id": "9nRb6RIu3wNp",
        "outputId": "3f0aabb0-caea-45e6-8590-c3ad33c92899"
      },
      "outputs": [
        {
          "name": "stdout",
          "output_type": "stream",
          "text": [
            "True\n",
            "False\n",
            "True\n",
            "False\n"
          ]
        }
      ],
      "source": [
        "print(not 0)\n",
        "print(not 1)\n",
        "print(not False)\n",
        "print(not True)"
      ]
    },
    {
      "cell_type": "code",
      "execution_count": null,
      "metadata": {
        "id": "LLncY5Py3wNq",
        "outputId": "bb7f1190-a794-4eab-e962-e0b10d57cf52"
      },
      "outputs": [
        {
          "name": "stdout",
          "output_type": "stream",
          "text": [
            "True\n",
            "True\n",
            "True\n",
            "False\n",
            "True\n",
            "False\n"
          ]
        }
      ],
      "source": [
        "print(10 == 10)\n",
        "print(10 >= 10)\n",
        "print(10 <= 10)\n",
        "print(10 < 5)\n",
        "print(10 > 5)\n",
        "print(10 != 10)"
      ]
    },
    {
      "cell_type": "code",
      "execution_count": null,
      "metadata": {
        "id": "ldxcnhvC3wNq",
        "outputId": "bf55c279-184c-4d5e-a1e7-a9997c85d503"
      },
      "outputs": [
        {
          "name": "stdout",
          "output_type": "stream",
          "text": [
            "True\n",
            "False\n",
            "True\n",
            "True\n"
          ]
        }
      ],
      "source": [
        "a_list = ['a',2,'hello',3]\n",
        "\n",
        "print('a' in a_list)\n",
        "print(1 in a_list)\n",
        "print('hello' in a_list)\n",
        "print(3 in a_list)"
      ]
    },
    {
      "cell_type": "code",
      "execution_count": null,
      "metadata": {
        "id": "JiLTFKMi3wNr",
        "outputId": "1328d0fa-f6e5-4f55-cfce-ae076a4ca637"
      },
      "outputs": [
        {
          "name": "stdout",
          "output_type": "stream",
          "text": [
            "True\n",
            "True\n",
            "False\n"
          ]
        }
      ],
      "source": [
        "a_str = \"hello python\"\n",
        "\n",
        "print(\"python\" in a_str)\n",
        "print(\"py\" in a_str)\n",
        "print(\"40\" in a_str)"
      ]
    }
  ],
  "metadata": {
    "interpreter": {
      "hash": "b3ba2566441a7c06988d0923437866b63cedc61552a5af99d1f4fb67d367b25f"
    },
    "kernelspec": {
      "display_name": "Python 3.8.8 64-bit ('base': conda)",
      "language": "python",
      "name": "python3"
    },
    "language_info": {
      "codemirror_mode": {
        "name": "ipython",
        "version": 3
      },
      "file_extension": ".py",
      "mimetype": "text/x-python",
      "name": "python",
      "nbconvert_exporter": "python",
      "pygments_lexer": "ipython3",
      "version": "3.8.8"
    },
    "orig_nbformat": 4,
    "colab": {
      "provenance": [],
      "include_colab_link": true
    }
  },
  "nbformat": 4,
  "nbformat_minor": 0
}